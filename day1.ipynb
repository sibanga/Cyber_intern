{
  "metadata": {
    "kernelspec": {
      "name": "xpython",
      "display_name": "Python 3.13 (XPython)",
      "language": "python"
    },
    "language_info": {
      "file_extension": ".py",
      "mimetype": "text/x-python",
      "name": "python",
      "version": "3.13.1"
    }
  },
  "nbformat_minor": 5,
  "nbformat": 4,
  "cells": [
    {
      "id": "8cea6dbd-6a4c-42cf-b800-00722e079745",
      "cell_type": "code",
      "source": " Objective:\nThe objective of this task is to learn how to scan your local network for open ports and understand the network exposure of devices. This helps in identifying potential security risks and learning basic network reconnaissance techniques.\n",
      "metadata": {
        "trusted": true
      },
      "outputs": [
        {
          "ename": "<class 'SyntaxError'>",
          "evalue": "invalid character '🔍' (U+1F50D) (91199879.py, line 1)",
          "traceback": [
            "  \u001b[36mCell\u001b[39m\u001b[36m \u001b[39m\u001b[32mIn[2]\u001b[39m\u001b[32m, line 1\u001b[39m\n\u001b[31m    \u001b[39m\u001b[31m🔍 Objective:\u001b[39m\n    ^\n\u001b[31mSyntaxError\u001b[39m\u001b[31m:\u001b[39m invalid character '🔍' (U+1F50D)\n"
          ],
          "output_type": "error"
        }
      ],
      "execution_count": 2
    },
    {
      "id": "b245a657-240b-4ff4-940b-e32fa70e8525",
      "cell_type": "code",
      "source": "a = 2\na",
      "metadata": {
        "trusted": true
      },
      "outputs": [
        {
          "execution_count": 1,
          "output_type": "execute_result",
          "data": {
            "text/plain": "2"
          },
          "metadata": {}
        }
      ],
      "execution_count": 1
    },
    {
      "id": "01cee711-08e0-4cfe-9f26-083856298b44",
      "cell_type": "code",
      "source": "🛠️ Tools Used:\n- Nmap (Network Mapper) - for port scanning\n- Wireshark (optional) - for packet capture and analysis\n",
      "metadata": {
        "trusted": true
      },
      "outputs": [],
      "execution_count": null
    },
    {
      "id": "7a30ff08-054a-4101-b7d9-6d2398bf2a68",
      "cell_type": "code",
      "source": "🧭 Step-by-Step Guide:\n1. **Install Nmap**:\n   - Download from [https://nmap.org/download.html](https://nmap.org/download.html) and install based on your OS.\n\n2. **Find Your Local IP Range**:\n   - Open terminal or command prompt:\n     - Windows: `ipconfig`\n     - Linux/Mac: `ifconfig`\n   - Example IP: `192.168.1.5` → IP Range: `192.168.1.0/24`\n\n3. **Run TCP SYN Scan on Entire Local Network**:\n   ```bash\n   nmap -sS 192.168.1.0/24\n",
      "metadata": {
        "trusted": true
      },
      "outputs": [],
      "execution_count": null
    },
    {
      "id": "fed1ac1a-7614-4fdf-b54a-0a3992d02c03",
      "cell_type": "code",
      "source": "Note Down Open Ports and Active IPs\nNmap scan report for 192.168.1.10\nPORT     STATE  SERVICE\n22/tcp   open   ssh\n80/tcp   open   http\n",
      "metadata": {
        "trusted": true
      },
      "outputs": [],
      "execution_count": null
    },
    {
      "id": "f75e35da-7cf5-4ebb-83a6-b4445a1e4435",
      "cell_type": "code",
      "source": "Optional: Analyze Packets Using Wireshark:\n\nOpen Wireshark, start capture on your network interface.\n\nFilter using ip.addr == 192.168.1.10 or tcp.port == 80.\n\nResearch Common Services on Open Ports:\n\nExamples:\n\nPort 22 → SSH\n\nPort 80 → HTTP\n\nPort 443 → HTTPS\n\nIdentify Security Risks:\n\nOpen services without firewall or encryption can be vulnerable.\n\nUnused ports/services should be closed to reduce attack surface.",
      "metadata": {
        "trusted": true
      },
      "outputs": [],
      "execution_count": null
    },
    {
      "id": "5f75442f-4066-4c23-851f-cf0b1d0b6452",
      "cell_type": "code",
      "source": "Save Results to File:\nnmap -sS 192.168.1.0/24 -oN scan_results.txt\nnmap -sS 192.168.1.0/24 -oX scan_results.xml\n",
      "metadata": {
        "trusted": true
      },
      "outputs": [],
      "execution_count": null
    },
    {
      "id": "3bd8c272-45d1-481e-ba93-6a2ac05cec42",
      "cell_type": "code",
      "source": "\n---\n\n#### 🧠 Key Concepts Learned:\n```markdown\n- Port Scanning using Nmap\n- TCP SYN Scan methodology\n- IP range subnetting (e.g., /24)\n- Recognizing and analyzing common ports/services\n- Basic network reconnaissance and security awareness\n",
      "metadata": {
        "trusted": true
      },
      "outputs": [],
      "execution_count": null
    },
    {
      "id": "4cd90add-914d-4fab-ad08-fbfbd5674488",
      "cell_type": "code",
      "source": " Output Example:\nNmap scan report for 192.168.1.1\nPORT     STATE  SERVICE\n80/tcp   open   http\n443/tcp  open   https\n\nNmap scan report for 192.168.1.15\nPORT     STATE  SERVICE\n22/tcp   open   ssh\n8080/tcp open   http-proxy\n",
      "metadata": {
        "trusted": true
      },
      "outputs": [],
      "execution_count": null
    },
    {
      "id": "4debc7e2-e869-4528-b1ab-cba3fba43811",
      "cell_type": "code",
      "source": " Conclusion:\nThis project helped in building foundational skills in network reconnaissance using Nmap. By scanning the local network and analyzing open ports, I learned how devices expose services and what kind of security risks they may pose. Understanding how to interpret port scan results is essential for network administrators and cybersecurity beginners.\n",
      "metadata": {
        "trusted": true
      },
      "outputs": [],
      "execution_count": null
    },
    {
      "id": "304ab51d-4f14-4b9b-aaf0-91bcf04c4d40",
      "cell_type": "code",
      "source": " Future Scope:\n- Automate port scanning with Python scripting\n- Add vulnerability detection using tools like `nmap -sV` or `Nikto`\n- Integrate real-time monitoring with packet sniffers like Wireshark\n- Explore firewall configuration to mitigate open port risks\n",
      "metadata": {
        "trusted": true
      },
      "outputs": [],
      "execution_count": null
    }
  ]
}